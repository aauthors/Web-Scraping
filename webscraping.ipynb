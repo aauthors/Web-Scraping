{
 "cells": [
  {
   "cell_type": "code",
   "execution_count": 1,
   "metadata": {},
   "outputs": [],
   "source": [
    "# Import statements\n",
    "\n",
    "import httpx \n",
    "import bs4 "
   ]
  },
  {
   "cell_type": "code",
   "execution_count": 2,
   "metadata": {},
   "outputs": [],
   "source": [
    "# Scrape page 'https://web-scraping.dev/product/1'\n",
    "\n",
    "url = 'https://web-scraping.dev/product/1'\n",
    "\n",
    "response = httpx.get(url)\n",
    "\n",
    "assert response.status_code  == 200, f'Failed to  fetch {url}, got {response.status_code}'\n",
    "\n",
    "# parsing HTML\n",
    "soup = bs4.BeautifulSoup(response.text, \"html.parser\")\n",
    "product = dict() \n",
    "product[\"name\"] = soup.select_one(\"h3.product-title\").text\n",
    "product[\"price\"] = soup.select_one(\"span.product-price\").text \n",
    "product[\"description\"] = soup.select_one(\"p.product-description\").text\n",
    "product[\"features\"] = {} \n",
    "\n",
    "features_table = soup.select(\".product-features table\")\n",
    "for row in features_table[0].select(\"tbody tr\"):\n",
    "    key, value = row.select(\"td\")\n",
    "    product[\"features\"][key.text] = value.text"
   ]
  },
  {
   "cell_type": "code",
   "execution_count": 3,
   "metadata": {},
   "outputs": [
    {
     "name": "stdout",
     "output_type": "stream",
     "text": [
      "scraped product: \n",
      "{'description': 'Indulge your sweet tooth with our Box of Chocolate Candy. '\n",
      "                'Each box contains an assortment of rich, flavorful chocolates '\n",
      "                'with a smooth, creamy filling. Choose from a variety of '\n",
      "                'flavors including zesty orange and sweet cherry. Whether '\n",
      "                \"you're looking for the perfect gift or just want to treat \"\n",
      "                'yourself, our Box of Chocolate Candy is sure to satisfy.',\n",
      " 'features': {'brand': 'ChocoDelight',\n",
      "              'care instructions': 'Store in a cool, dry place',\n",
      "              'flavors': 'Available in Orange and Cherry flavors',\n",
      "              'material': 'Premium quality chocolate',\n",
      "              'purpose': 'Ideal for gifting or self-indulgence',\n",
      "              'sizes': 'Available in small, medium, and large boxes'},\n",
      " 'name': 'Box of Chocolate Candy',\n",
      " 'price': '$9.99 '}\n"
     ]
    }
   ],
   "source": [
    "# show results\n",
    "from pprint import pprint \n",
    "\n",
    "print(\"scraped product: \")\n",
    "pprint(product)"
   ]
  }
 ],
 "metadata": {
  "kernelspec": {
   "display_name": "myvenv",
   "language": "python",
   "name": "python3"
  },
  "language_info": {
   "codemirror_mode": {
    "name": "ipython",
    "version": 3
   },
   "file_extension": ".py",
   "mimetype": "text/x-python",
   "name": "python",
   "nbconvert_exporter": "python",
   "pygments_lexer": "ipython3",
   "version": "3.12.1"
  }
 },
 "nbformat": 4,
 "nbformat_minor": 2
}
